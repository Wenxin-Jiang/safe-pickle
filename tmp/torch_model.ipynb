{
 "cells": [
  {
   "cell_type": "code",
   "execution_count": 3,
   "metadata": {},
   "outputs": [],
   "source": [
    "import torch\n",
    "import torch.nn as nn\n",
    "\n",
    "from loguru import logger"
   ]
  },
  {
   "cell_type": "code",
   "execution_count": 6,
   "metadata": {},
   "outputs": [
    {
     "data": {
      "text/plain": [
       "<All keys matched successfully>"
      ]
     },
     "execution_count": 6,
     "metadata": {},
     "output_type": "execute_result"
    }
   ],
   "source": [
    "\n",
    "# Define the model architecture (this must match the architecture used when the state_dict was saved)\n",
    "class MyModel(nn.Module):\n",
    "    def __init__(self):\n",
    "        super(MyModel, self).__init__()\n",
    "        self.linear1 = nn.Linear(2, 10)\n",
    "        self.relu = nn.ReLU()\n",
    "        self.linear2 = nn.Linear(10, 1)\n",
    "        self.sigmoid = nn.Sigmoid()\n",
    "\n",
    "    def forward(self, x):\n",
    "        x = self.linear1(x)\n",
    "        x = self.relu(x)\n",
    "        x = self.linear2(x)\n",
    "        x = self.sigmoid(x)\n",
    "        return x\n",
    "\n",
    "# Recreate the model instance\n",
    "model = MyModel()\n",
    "\n",
    "# Load the state dictionary\n",
    "state_dict = torch.load('model_weights.pth')\n",
    "model.load_state_dict(state_dict)"
   ]
  },
  {
   "cell_type": "code",
   "execution_count": 7,
   "metadata": {},
   "outputs": [
    {
     "name": "stdout",
     "output_type": "stream",
     "text": [
      "MyModel(\n",
      "  (linear1): Linear(in_features=2, out_features=10, bias=True)\n",
      "  (relu): ReLU()\n",
      "  (linear2): Linear(in_features=10, out_features=1, bias=True)\n",
      "  (sigmoid): Sigmoid()\n",
      ")\n"
     ]
    }
   ],
   "source": [
    "print(model)"
   ]
  },
  {
   "cell_type": "code",
   "execution_count": 2,
   "metadata": {},
   "outputs": [
    {
     "name": "stdout",
     "output_type": "stream",
     "text": [
      "0.weight: tensor([[-0.0452, -0.6377],\n",
      "        [-0.5758, -0.5320],\n",
      "        [-0.3946,  0.1688],\n",
      "        [-0.4938,  0.5219],\n",
      "        [-0.0048,  0.3348],\n",
      "        [-0.3840,  0.4031],\n",
      "        [-0.4052, -0.5617],\n",
      "        [-0.3572,  0.0949],\n",
      "        [ 0.1798, -0.3575],\n",
      "        [ 0.2193, -0.5700]])\n",
      "0.bias: tensor([ 0.1283, -0.2973,  0.0128, -0.2662, -0.6528, -0.0560,  0.6995, -0.6872,\n",
      "        -0.5392, -0.3001])\n",
      "2.weight: tensor([[ 0.1899,  0.0796, -0.0343,  0.1890,  0.1833,  0.2587,  0.1304, -0.2533,\n",
      "          0.1985, -0.0685]])\n",
      "2.bias: tensor([0.0049])\n"
     ]
    }
   ],
   "source": [
    "# Load the state dictionary from the .pth file\n",
    "state_dict = torch.load('model_weights.pth')\n",
    "\n",
    "# Print the keys and values in the state dictionary\n",
    "for key, value in state_dict.items():\n",
    "    print(f\"{key}: {value}\")"
   ]
  },
  {
   "cell_type": "code",
   "execution_count": 3,
   "metadata": {},
   "outputs": [],
   "source": [
    "!grep -rl '\\b'\"password *= *'[^']*'\""
   ]
  },
  {
   "cell_type": "code",
   "execution_count": null,
   "metadata": {},
   "outputs": [],
   "source": []
  }
 ],
 "metadata": {
  "kernelspec": {
   "display_name": "safe_pickle",
   "language": "python",
   "name": "python3"
  },
  "language_info": {
   "codemirror_mode": {
    "name": "ipython",
    "version": 3
   },
   "file_extension": ".py",
   "mimetype": "text/x-python",
   "name": "python",
   "nbconvert_exporter": "python",
   "pygments_lexer": "ipython3",
   "version": "3.10.13"
  }
 },
 "nbformat": 4,
 "nbformat_minor": 2
}
